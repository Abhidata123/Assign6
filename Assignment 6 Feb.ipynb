{
 "cells": [
  {
   "cell_type": "code",
   "execution_count": null,
   "id": "8609a22a-def2-45dd-981b-4ae28dc612cf",
   "metadata": {},
   "outputs": [],
   "source": [
    "# Q1. Create a function which will take a list as an argument and return the product of all the numbers\n",
    "#after creating a flat list.\n",
    "#Use the below-given list as an argument for your function.\n",
    "#list1 = [1,2,3,4, [44,55,66, True], False, (34,56,78,89,34), {1,2,3,3,2,1}, {1:34, \"key2\": [55, 67, 78, 89], 4: (45,\n",
    "#22, 61, 34)}, [56, 'data science'], 'Machine Learning']"
   ]
  },
  {
   "cell_type": "code",
   "execution_count": 3,
   "id": "a3a4bf8e-888c-4a19-9e1f-b791b6ffbb71",
   "metadata": {},
   "outputs": [
    {
     "name": "stdout",
     "output_type": "stream",
     "text": [
      "[1, 2, 3, 4, 44, 55, 66, True, False, 56, 'data science', 'Machine Learning']\n",
      "[1, 2, 3]\n",
      "[1, 'key2', 4]\n",
      "[34, 56, 78, 89, 34]\n"
     ]
    }
   ],
   "source": [
    "\n",
    "    flatlist = []\n",
    "    tuplelist =[]\n",
    "    setlist  = []\n",
    "    dictlist = []\n",
    " \n",
    "    boolist = []\n",
    "    lis = [1,2,3,4, [44,55,66, True], False, (34,56,78,89,34), {1,2,3,3,2,1}, {1:34, \"key2\": [55, 67, 78, 89], 4: (45,\n",
    "22, 61, 34)}, [56, 'data science'], 'Machine Learning']\n",
    "    for element in lis:\n",
    "        if type(element) == list:\n",
    "            for item in element:\n",
    "                flatlist.append(item)\n",
    "        elif type(element) is tuple:\n",
    "            for item in element:\n",
    "                tuplelist.append(item)\n",
    "        elif type(element) is set:\n",
    "            for item in element:\n",
    "                setlist.append(item)\n",
    "        elif type(element) is dict:\n",
    "            for item in element:\n",
    "                dictlist.append(item)\n",
    "        else:\n",
    "            flatlist.append(element)\n",
    "\n",
    "    print(flatlist)\n",
    "    print(setlist)\n",
    "    print(dictlist)\n",
    "    print(tuplelist)\n",
    "    \n",
    "        \n",
    "                \n",
    "                "
   ]
  },
  {
   "cell_type": "code",
   "execution_count": null,
   "id": "2c408646-dd5e-45b3-b81c-38d4f139ce2d",
   "metadata": {},
   "outputs": [],
   "source": [
    "# Q2. Write a python program for encrypting a message sent to you by your friend. The logic of encryption\n",
    "#should be such that, for a the output should be z. For b, the output should be y. For c, the output should\n",
    "#be x respectively. Also, the whitespace should be replaced with a dollar sign. Keep the punctuation\n",
    "#marks unchanged."
   ]
  },
  {
   "cell_type": "code",
   "execution_count": 2,
   "id": "6fb0faea-cf85-485c-b24c-ee31b2190bba",
   "metadata": {},
   "outputs": [
    {
     "name": "stdout",
     "output_type": "stream",
     "text": [
      "i wznt to become z dztz scientist\n",
      "i wznt to yecome z dztz scientist\n",
      "i wznt to yexome z dztz sxientist\n",
      "i$wznt$to$yexome$z$dztz$sxientist\n"
     ]
    }
   ],
   "source": [
    "encrypt = 'I want to become a Data Scientist'\n",
    "dict = {\"a\":\"z\", \"b\":\"y\", \"c\":\"x\", ' ':\"$\"}\n",
    "encrypt = encrypt.lower()\n",
    "num = encrypt[::]\n",
    "for i in dict:\n",
    "    num = num.replace(i, dict[i])\n",
    "    print(num)\n",
    "   \n",
    "   \n",
    "    "
   ]
  },
  {
   "cell_type": "code",
   "execution_count": null,
   "id": "acb4790a-49fd-4001-8d42-98e2b6af14ab",
   "metadata": {},
   "outputs": [],
   "source": []
  },
  {
   "cell_type": "code",
   "execution_count": null,
   "id": "e0b2fa24-8ebf-4823-8472-438166951d61",
   "metadata": {},
   "outputs": [],
   "source": []
  },
  {
   "cell_type": "code",
   "execution_count": null,
   "id": "b0949c9f-a827-4e42-b1fd-b4e3e8c83582",
   "metadata": {},
   "outputs": [],
   "source": []
  }
 ],
 "metadata": {
  "kernelspec": {
   "display_name": "Python 3 (ipykernel)",
   "language": "python",
   "name": "python3"
  },
  "language_info": {
   "codemirror_mode": {
    "name": "ipython",
    "version": 3
   },
   "file_extension": ".py",
   "mimetype": "text/x-python",
   "name": "python",
   "nbconvert_exporter": "python",
   "pygments_lexer": "ipython3",
   "version": "3.10.8"
  }
 },
 "nbformat": 4,
 "nbformat_minor": 5
}
